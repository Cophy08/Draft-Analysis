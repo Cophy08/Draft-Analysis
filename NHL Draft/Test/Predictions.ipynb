{
 "cells": [
  {
   "cell_type": "markdown",
   "metadata": {
    "collapsed": true
   },
   "source": [
    "# Introduction\n",
    "\n",
    "### Okay, so hopefully this is a not terrible way to look through all this code. I start with filling NA values with means. I still have to do the similarity score thing. Also, I turn the long list of nationalities into just North American and European skaters."
   ]
  },
  {
   "cell_type": "code",
   "execution_count": 18,
   "metadata": {},
   "outputs": [
    {
     "name": "stdout",
     "output_type": "stream",
     "text": [
      "    EPID  YEAR  OVERALL                 TEAM          PLAYER NAT POS POSFDG  \\\n",
      "0   9223  2009        1   New York Islanders    John Tavares  CA   C      F   \n",
      "1   6007  2009        2  Tampa Bay Lightning   Victor Hedman  SE   D      D   \n",
      "2  12571  2009        3   Colorado Avalanche    Matt Duchene  CA   C      F   \n",
      "3  14657  2009        4    Atlanta Thrashers    Evander Kane  CA  LW      F   \n",
      "4  14739  2009        5    Los Angeles Kings  Brayden Schenn  CA   C      F   \n",
      "\n",
      "                                                 URL  TYPE  ...   PDY_LEAGUE  PDY_GP  PDY_G  \\\n",
      "0  http://www.hockey-reference.com/players/t/tava...  NA.S  ...          OHL      59   40.0   \n",
      "1  http://www.hockey-reference.com/players/h/hedm...  EU.S  ...          SHL      39    2.0   \n",
      "2  http://www.hockey-reference.com/players/d/duch...  NA.S  ...          OHL      64   30.0   \n",
      "3  http://www.hockey-reference.com/players/k/kane...  NA.S  ...          WHL      65   24.0   \n",
      "4  http://www.hockey-reference.com/players/s/sche...  NA.S  ...          WHL      66   28.0   \n",
      "\n",
      "   PDY_A  PDY_PTS      PDY_PPG  PDY_PIM  PDY_PLUSMINUS  PDY_TEAMPCT  NAEU  \n",
      "0   78.0    118.0            2       69           22.0     0.654412     1  \n",
      "1    2.0      4.0  0.102564103       44            1.0     0.522973     0  \n",
      "2   20.0     50.0      0.78125       22           -2.0     0.647059     1  \n",
      "3   17.0     41.0  0.630769231       66           20.0     0.736111     1  \n",
      "4   43.0     71.0  1.075757576       48           22.0     0.625000     1  \n",
      "\n",
      "[5 rows x 57 columns]\n"
     ]
    }
   ],
   "source": [
    "import pandas as pd\n",
    "pd.options.mode.chained_assignment = None\n",
    "\n",
    "desired_width = 100\n",
    "pd.set_option('display.width', desired_width)\n",
    "\n",
    "df = pd.read_csv('rftest.csv',encoding='latin-1')\n",
    "df = df.fillna(df.mean())\n",
    "df['NAEU'] = 0\n",
    "df.loc[df['NAT'] == 'CA', 'NAEU'] = 1\n",
    "df.loc[df['NAT'] == 'US', 'NAEU'] = 1\n",
    "\n",
    "print(df.head())"
   ]
  },
  {
   "cell_type": "markdown",
   "metadata": {},
   "source": [
    "### Now we run a regression real quick. As expected, CSS rank is very important. Stuff like age and nationality don't really do much, so I just left them in. The R-squared always seems to hover around 50%. As discussed before, the better teammate predictor and the \"superleagues\" don't help at all. This info is seemingly contained within CSS rank."
   ]
  },
  {
   "cell_type": "code",
   "execution_count": 19,
   "metadata": {},
   "outputs": [
    {
     "name": "stdout",
     "output_type": "stream",
     "text": [
      "                            OLS Regression Results                            \n",
      "==============================================================================\n",
      "Dep. Variable:                OVERALL   R-squared:                       0.503\n",
      "Model:                            OLS   Adj. R-squared:                  0.496\n",
      "Method:                 Least Squares   F-statistic:                     71.44\n",
      "Date:                Mon, 11 Sep 2017   Prob (F-statistic):          5.80e-149\n",
      "Time:                        04:41:39   Log-Likelihood:                -5592.9\n",
      "No. Observations:                1075   AIC:                         1.122e+04\n",
      "Df Residuals:                    1059   BIC:                         1.130e+04\n",
      "Df Model:                          15                                         \n",
      "Covariance Type:            nonrobust                                         \n",
      "=====================================================================================\n",
      "                        coef    std err          t      P>|t|      [0.025      0.975]\n",
      "-------------------------------------------------------------------------------------\n",
      "Intercept           187.6955     64.940      2.890      0.004      60.270     315.121\n",
      "TYPE[T.EU.S]         40.5628     20.036      2.024      0.043       1.247      79.878\n",
      "TYPE[T.NA.G]         42.6375     18.479      2.307      0.021       6.378      78.897\n",
      "TYPE[T.NA.S]         -0.2205     19.964     -0.011      0.991     -39.393      38.952\n",
      "TYPE[T.UNR]         119.1647     19.334      6.164      0.000      81.228     157.102\n",
      "POSFDG[T.F]           4.1374      3.282      1.261      0.208      -2.302      10.577\n",
      "POSFDG[T.G]          -4.8215     12.225     -0.394      0.693     -28.810      19.167\n",
      "RANK                 10.9958      2.474      4.444      0.000       6.140      15.851\n",
      "TYPE[T.EU.S]:RANK   -10.1010      2.476     -4.079      0.000     -14.960      -5.242\n",
      "TYPE[T.NA.G]:RANK    -7.6484      2.562     -2.985      0.003     -12.676      -2.621\n",
      "TYPE[T.NA.S]:RANK   -10.2393      2.475     -4.137      0.000     -15.095      -5.383\n",
      "TYPE[T.UNR]:RANK   4.075e-14   1.35e-14      3.022      0.003    1.43e-14    6.72e-14\n",
      "NAEU                 -2.7905      5.292     -0.527      0.598     -13.174       7.593\n",
      "HT                   -1.3010      0.975     -1.334      0.182      -3.214       0.612\n",
      "WT                   -0.2811      0.131     -2.151      0.032      -0.538      -0.025\n",
      "AGE                   0.0961      0.484      0.198      0.843      -0.854       1.046\n",
      "DY_PPG               -8.9250      2.990     -2.984      0.003     -14.793      -3.057\n",
      "==============================================================================\n",
      "Omnibus:                        8.137   Durbin-Watson:                   0.992\n",
      "Prob(Omnibus):                  0.017   Jarque-Bera (JB):                8.253\n",
      "Skew:                           0.213   Prob(JB):                       0.0161\n",
      "Kurtosis:                       2.955   Cond. No.                     1.17e+19\n",
      "==============================================================================\n",
      "\n",
      "Warnings:\n",
      "[1] Standard Errors assume that the covariance matrix of the errors is correctly specified.\n",
      "[2] The smallest eigenvalue is 3.68e-31. This might indicate that there are\n",
      "strong multicollinearity problems or that the design matrix is singular.\n"
     ]
    }
   ],
   "source": [
    "import statsmodels.formula.api as sm\n",
    "import numpy as np\n",
    "\n",
    "result = sm.ols(formula=\"OVERALL ~ TYPE * RANK + NAEU + POSFDG + HT + WT + AGE + DY_PPG\", data=df).fit()\n",
    "print(result.summary())"
   ]
  },
  {
   "cell_type": "markdown",
   "metadata": {},
   "source": [
    "### Just looking at the predictions, it's obvious they need to be rescaled."
   ]
  },
  {
   "cell_type": "code",
   "execution_count": 20,
   "metadata": {},
   "outputs": [
    {
     "name": "stdout",
     "output_type": "stream",
     "text": [
      "     YEAR  OVERALL              PLAYER    PREDOLS\n",
      "632  2006        1        Erik Johnson  17.508196\n",
      "845  2005        1       Sidney Crosby  20.511482\n",
      "633  2006        2        Jordan Staal  23.828401\n",
      "649  2006       18       Chris Stewart  25.178279\n",
      "211  2008        2        Drew Doughty  25.180621\n",
      "846  2005        2          Bobby Ryan  25.210316\n",
      "221  2008       12         Tyler Myers  26.442303\n",
      "62   2009       63        Ben Hanowski  26.968887\n",
      "8    2009        9         Jared Cowen  27.035376\n",
      "212  2008        3       Zach Bogosian  27.219266\n",
      "213  2008        4    Alex Pietrangelo  27.326010\n",
      "0    2009        1        John Tavares  27.530370\n",
      "422  2007        2  James van Riemsdyk  27.756304\n",
      "214  2008        5         Luke Schenn  28.579353\n",
      "423  2007        3         Kyle Turris  28.830935\n",
      "18   2009       19       Chris Kreider  29.181108\n",
      "425  2007        5         Karl Alzner  29.451442\n",
      "426  2007        6          Sam Gagner  29.493511\n",
      "40   2009       41         Zach Budish  29.867714\n",
      "853  2005        9           Brian Lee  30.534884\n"
     ]
    }
   ],
   "source": [
    "df['PREDOLS'] = result.predict()\n",
    "df1 = df[['YEAR','OVERALL','PLAYER','PREDOLS']]\n",
    "df1 = df1.sort_values(by='PREDOLS', ascending = True)\n",
    "print(df1.head(20))"
   ]
  },
  {
   "cell_type": "markdown",
   "metadata": {},
   "source": [
    "### Have to rescale by year. Here's an example from 2007. The RMSE of the rescaled difference is bad."
   ]
  },
  {
   "cell_type": "code",
   "execution_count": 21,
   "metadata": {},
   "outputs": [
    {
     "name": "stdout",
     "output_type": "stream",
     "text": [
      "                 PLAYER  MYRANK  REALRANK  DIFF\n",
      "422  James van Riemsdyk       1         2    -1\n",
      "423         Kyle Turris       2         3    -1\n",
      "425         Karl Alzner       3         5    -2\n",
      "426          Sam Gagner       4         6    -2\n",
      "432       Ryan McDonagh       5        12    -7\n",
      "421        Patrick Kane       6         1     5\n",
      "430      Keaton Ellerby       7        10    -3\n",
      "455         Tommy Cross       8        35   -27\n",
      "452       Brett Maclean       9        32   -23\n",
      "427       Jakub Voracek      10         7     3\n",
      "440     Angelo Esposito      11        20    -9\n",
      "442      Max Pacioretty      12        22   -10\n",
      "448   Nicholas Petrecki      13        28   -15\n",
      "445       Patrick White      14        25   -11\n",
      "465         Colby Cohen      15        45   -30\n",
      "429       Logan Couture      16         9     7\n",
      "428         Zach Hamill      17         8     9\n",
      "446        David Perron      18        26    -8\n",
      "450           Nick Ross      19        30   -11\n",
      "467         Dana Tyrell      20        47   -27\n",
      "RMSE\n",
      "49.5586205623\n"
     ]
    }
   ],
   "source": [
    "year = 2007\n",
    "\n",
    "df1 = df[df.YEAR == year]\n",
    "df1 = df1.sort_values(by='PREDOLS', ascending = True)\n",
    "df1['MYRANK'] = range(len(df1))\n",
    "df1['MYRANK'] = df1['MYRANK'] + 1\n",
    "df1 = df1.sort_values(by='OVERALL', ascending = True)\n",
    "df1['REALRANK'] = range(len(df1))\n",
    "df1['REALRANK'] = df1['REALRANK'] + 1\n",
    "df1['DIFF'] = df1['MYRANK'] - df1['REALRANK']\n",
    "df1 = df1.sort_values(by='PREDOLS', ascending = True)\n",
    "\n",
    "print(df1[['PLAYER','MYRANK','REALRANK','DIFF']].head(20))\n",
    "\n",
    "rmse = (np.mean((df1.MYRANK - df1.REALRANK)**2))**(1/2)\n",
    "print('RMSE')\n",
    "print(rmse)"
   ]
  },
  {
   "cell_type": "markdown",
   "metadata": {},
   "source": [
    "### Now we got some random forest stuff. Train on 4 years of data, test on 1. The RMSE of the testing set is still pretty bad."
   ]
  },
  {
   "cell_type": "code",
   "execution_count": 22,
   "metadata": {},
   "outputs": [
    {
     "name": "stdout",
     "output_type": "stream",
     "text": [
      "Training R2\n",
      "0.932533005964\n",
      "Training RMSE\n",
      "16.2917128871\n",
      "                 PLAYER  MYRANK  REALRANK  DIFF\n",
      "423         Kyle Turris       1         3    -2\n",
      "422  James van Riemsdyk       2         2     0\n",
      "421        Patrick Kane       3         1     2\n",
      "425         Karl Alzner       4         5    -1\n",
      "440     Angelo Esposito       5        20   -15\n",
      "430      Keaton Ellerby       6        10    -4\n",
      "452       Brett Maclean       7        32   -25\n",
      "446        David Perron       8        26   -18\n",
      "428         Zach Hamill       9         8     1\n",
      "437   Alexei Cherepanov      10        17    -7\n",
      "426          Sam Gagner      11         6     5\n",
      "429       Logan Couture      12         9     3\n",
      "432       Ryan McDonagh      13        12     1\n",
      "427       Jakub Voracek      14         7     7\n",
      "457       Stefan Legein      15        37   -22\n",
      "433          Lars Eller      16        13     3\n",
      "445       Patrick White      17        25    -8\n",
      "455         Tommy Cross      18        35   -17\n",
      "442      Max Pacioretty      19        22    -3\n",
      "474        Jeremy Smith      20        54   -34\n",
      "Testing RMSE\n",
      "52.7840992861\n"
     ]
    }
   ],
   "source": [
    "from sklearn.ensemble import RandomForestRegressor\n",
    "import sklearn.metrics as skm\n",
    "\n",
    "dummies = pd.get_dummies(df[['TYPE','POSFDG']])\n",
    "df2 = pd.concat([df,dummies],axis=1)\n",
    "\n",
    "year = 2007\n",
    "dftest = df2[df2.YEAR == year]\n",
    "dftrain = df2[df2.YEAR != year]\n",
    "\n",
    "cols = ['RANK','NAEU','HT','WT','AGE','DY_PPG','TYPE_NA.S','TYPE_EU.S','TYPE_NA.G','TYPE_EU.G','TYPE_UNR',\n",
    "        'POSFDG_F','POSFDG_D','POSFDG_G']\n",
    "rf = RandomForestRegressor(n_estimators=100)\n",
    "rf.fit(dftrain[cols], dftrain.OVERALL)\n",
    "\n",
    "r2 = skm.r2_score(dftrain.OVERALL, rf.predict(dftrain[cols]))\n",
    "rmse = (np.mean((dftrain.OVERALL - rf.predict(dftrain[cols]))**2))**(1/2)\n",
    "print('Training R2')\n",
    "print(r2)\n",
    "print('Training RMSE')\n",
    "print(rmse)\n",
    "\n",
    "dftest['PREDRF'] = rf.predict(dftest[cols])\n",
    "\n",
    "dftest = dftest.sort_values(by='PREDRF', ascending = True)\n",
    "dftest['MYRANK'] = range(len(dftest))\n",
    "dftest['MYRANK'] = dftest['MYRANK'] + 1\n",
    "dftest = dftest.sort_values(by='OVERALL', ascending = True)\n",
    "dftest['REALRANK'] = range(len(dftest))\n",
    "dftest['REALRANK'] = dftest['REALRANK'] + 1\n",
    "dftest['DIFF'] = dftest['MYRANK'] - dftest['REALRANK']\n",
    "dftest = dftest.sort_values(by='PREDRF', ascending = True)\n",
    "\n",
    "print(dftest[['PLAYER','MYRANK','REALRANK','DIFF']].head(20))\n",
    "rmse = (np.mean((dftest.MYRANK - dftest.REALRANK)**2))**(1/2)\n",
    "print('Testing RMSE')\n",
    "print(rmse)"
   ]
  },
  {
   "cell_type": "markdown",
   "metadata": {
    "collapsed": true
   },
   "source": [
    "### Okay, now do all of the above with NHL value (Point Shares). Does not look great so far..."
   ]
  },
  {
   "cell_type": "code",
   "execution_count": 23,
   "metadata": {},
   "outputs": [
    {
     "name": "stdout",
     "output_type": "stream",
     "text": [
      "                            OLS Regression Results                            \n",
      "==============================================================================\n",
      "Dep. Variable:                 NHL_PS   R-squared:                       0.084\n",
      "Model:                            OLS   Adj. R-squared:                  0.071\n",
      "Method:                 Least Squares   F-statistic:                     6.481\n",
      "Date:                Mon, 11 Sep 2017   Prob (F-statistic):           2.13e-13\n",
      "Time:                        04:41:58   Log-Likelihood:                -4167.4\n",
      "No. Observations:                1075   AIC:                             8367.\n",
      "Df Residuals:                    1059   BIC:                             8446.\n",
      "Df Model:                          15                                         \n",
      "Covariance Type:            nonrobust                                         \n",
      "=====================================================================================\n",
      "                        coef    std err          t      P>|t|      [0.025      0.975]\n",
      "-------------------------------------------------------------------------------------\n",
      "Intercept            38.7484     17.244      2.247      0.025       4.912      72.584\n",
      "TYPE[T.EU.S]        -16.1129      5.320     -3.029      0.003     -26.553      -5.673\n",
      "TYPE[T.NA.G]        -11.0415      4.907     -2.250      0.025     -20.670      -1.413\n",
      "TYPE[T.NA.S]        -14.8393      5.301     -2.799      0.005     -25.241      -4.438\n",
      "TYPE[T.UNR]         -19.2219      5.134     -3.744      0.000     -29.296      -9.148\n",
      "POSFDG[T.F]          -2.5987      0.871     -2.982      0.003      -4.309      -0.889\n",
      "POSFDG[T.G]           2.5093      3.246      0.773      0.440      -3.860       8.879\n",
      "RANK                 -2.2588      0.657     -3.438      0.001      -3.548      -0.969\n",
      "TYPE[T.EU.S]:RANK     2.2587      0.658      3.435      0.001       0.968       3.549\n",
      "TYPE[T.NA.G]:RANK     1.8638      0.680      2.739      0.006       0.529       3.199\n",
      "TYPE[T.NA.S]:RANK     2.2238      0.657      3.384      0.001       0.934       3.513\n",
      "TYPE[T.UNR]:RANK  -8.829e-15   3.58e-15     -2.466      0.014   -1.59e-14    -1.8e-15\n",
      "NAEU                  1.0085      1.405      0.718      0.473      -1.749       3.766\n",
      "HT                   -0.3114      0.259     -1.203      0.229      -0.819       0.197\n",
      "WT                    0.0542      0.035      1.561      0.119      -0.014       0.122\n",
      "AGE                  -0.0107      0.129     -0.083      0.934      -0.263       0.242\n",
      "DY_PPG                4.7303      0.794      5.957      0.000       3.172       6.288\n",
      "==============================================================================\n",
      "Omnibus:                      636.470   Durbin-Watson:                   1.710\n",
      "Prob(Omnibus):                  0.000   Jarque-Bera (JB):             6804.464\n",
      "Skew:                           2.565   Prob(JB):                         0.00\n",
      "Kurtosis:                      14.207   Cond. No.                     1.17e+19\n",
      "==============================================================================\n",
      "\n",
      "Warnings:\n",
      "[1] Standard Errors assume that the covariance matrix of the errors is correctly specified.\n",
      "[2] The smallest eigenvalue is 3.68e-31. This might indicate that there are\n",
      "strong multicollinearity problems or that the design matrix is singular.\n"
     ]
    }
   ],
   "source": [
    "result = sm.ols(formula=\"NHL_PS ~ TYPE * RANK + NAEU + POSFDG + HT + WT + AGE + DY_PPG\", data=df).fit()\n",
    "print(result.summary())"
   ]
  },
  {
   "cell_type": "markdown",
   "metadata": {},
   "source": [
    "### But straight up draft rank doesn't predict NHL value amazingly either, so that's a relief. Although once we include a quadratic trend, the R2 becomes a bit better."
   ]
  },
  {
   "cell_type": "code",
   "execution_count": 24,
   "metadata": {},
   "outputs": [
    {
     "name": "stdout",
     "output_type": "stream",
     "text": [
      "                            OLS Regression Results                            \n",
      "==============================================================================\n",
      "Dep. Variable:                 NHL_PS   R-squared:                       0.126\n",
      "Model:                            OLS   Adj. R-squared:                  0.125\n",
      "Method:                 Least Squares   F-statistic:                     77.46\n",
      "Date:                Mon, 11 Sep 2017   Prob (F-statistic):           3.78e-32\n",
      "Time:                        04:42:07   Log-Likelihood:                -4142.1\n",
      "No. Observations:                1075   AIC:                             8290.\n",
      "Df Residuals:                    1072   BIC:                             8305.\n",
      "Df Model:                           2                                         \n",
      "Covariance Type:            nonrobust                                         \n",
      "==============================================================================\n",
      "                 coef    std err          t      P>|t|      [0.025      0.975]\n",
      "------------------------------------------------------------------------------\n",
      "Intercept     23.9418      1.049     22.830      0.000      21.884      26.000\n",
      "OVERALL       -0.2492      0.022    -11.218      0.000      -0.293      -0.206\n",
      "OVERALL2       0.0009   9.89e-05      9.502      0.000       0.001       0.001\n",
      "==============================================================================\n",
      "Omnibus:                      587.075   Durbin-Watson:                   1.832\n",
      "Prob(Omnibus):                  0.000   Jarque-Bera (JB):             6191.670\n",
      "Skew:                           2.304   Prob(JB):                         0.00\n",
      "Kurtosis:                      13.817   Cond. No.                     6.31e+04\n",
      "==============================================================================\n",
      "\n",
      "Warnings:\n",
      "[1] Standard Errors assume that the covariance matrix of the errors is correctly specified.\n",
      "[2] The condition number is large, 6.31e+04. This might indicate that there are\n",
      "strong multicollinearity or other numerical problems.\n"
     ]
    }
   ],
   "source": [
    "df['OVERALL2'] = df['OVERALL']**2\n",
    "result = sm.ols(formula=\"NHL_PS ~ OVERALL + OVERALL2\", data=df).fit()\n",
    "print(result.summary())"
   ]
  },
  {
   "cell_type": "markdown",
   "metadata": {},
   "source": [
    "### Random forest. There are hits and misses. Most notably, I did a better job of seeing Claude Giroux's value than the scouts did in '06. But the rank stuff is kind of misleading because like 60% of players basically should be ranked last because they didn't make it to the NHL."
   ]
  },
  {
   "cell_type": "code",
   "execution_count": 25,
   "metadata": {},
   "outputs": [
    {
     "name": "stdout",
     "output_type": "stream",
     "text": [
      "Training R2\n",
      "0.883853913589\n",
      "Training RMSE\n",
      "4.1210361269\n",
      "                PLAYER  MYRANK  REALRANK  DIFF\n",
      "632       Erik Johnson       1        12   -11\n",
      "633       Jordan Staal       2         9    -7\n",
      "642   Jonathan Bernier       3        13   -10\n",
      "635  Nicklas Backstrom       4         2     2\n",
      "654    Semyon Varlamov       5         5     0\n",
      "646      Riku Helenius       6       206  -200\n",
      "634     Jonathan Toews       7         1     6\n",
      "653      Claude Giroux       8         6     2\n",
      "636        Phil Kessel       9         4     5\n",
      "658   Ivan Vishnevskiy      10       188  -178\n",
      "668    Yury Alexandrov      11       125  -114\n",
      "686       Denis Bodrov      12       126  -114\n",
      "643       Bryan Little      13        10     3\n",
      "649      Chris Stewart      14        18    -4\n",
      "655     Dennis Persson      15       127  -112\n",
      "705       Jeff Zatkoff      16       165  -149\n",
      "665    Michal Neuvirth      17        16     1\n",
      "638        Kyle Okposo      18        14     4\n",
      "733        Kyle Medvec      19       128  -109\n",
      "675    Nikolai Kulemin      20        23    -3\n",
      "Testing RMSE\n",
      "87.2882010752\n"
     ]
    }
   ],
   "source": [
    "dummies = pd.get_dummies(df[['TYPE','POSFDG']])\n",
    "df3 = pd.concat([df,dummies],axis=1)\n",
    "\n",
    "year = 2006\n",
    "dftestvalue = df3[df3.YEAR == year]\n",
    "dftrainvalue = df3[df3.YEAR != year]\n",
    "\n",
    "cols = ['RANK','NAEU','HT','WT','AGE','DY_PPG','TYPE_NA.S','TYPE_EU.S','TYPE_NA.G','TYPE_EU.G','TYPE_UNR',\n",
    "        'POSFDG_F','POSFDG_D','POSFDG_G','OVERALL']\n",
    "rf = RandomForestRegressor(n_estimators=100)\n",
    "rf.fit(dftrainvalue[cols], dftrainvalue.NHL_PS)\n",
    "\n",
    "r2 = skm.r2_score(dftrainvalue.NHL_PS, rf.predict(dftrainvalue[cols]))\n",
    "rmse = (np.mean((dftrainvalue.NHL_PS - rf.predict(dftrainvalue[cols]))**2))**(1/2)\n",
    "print('Training R2')\n",
    "print(r2)\n",
    "print('Training RMSE')\n",
    "print(rmse)\n",
    "\n",
    "dftestvalue['PREDRF'] = rf.predict(dftestvalue[cols])\n",
    "\n",
    "dftestvalue = dftestvalue.sort_values(by='PREDRF', ascending = False)\n",
    "dftestvalue['MYRANK'] = range(len(dftestvalue))\n",
    "dftestvalue['MYRANK'] = dftestvalue['MYRANK'] + 1\n",
    "dftestvalue = dftestvalue.sort_values(by='NHL_PS', ascending = False)\n",
    "dftestvalue['REALRANK'] = range(len(dftestvalue))\n",
    "dftestvalue['REALRANK'] = dftestvalue['REALRANK'] + 1\n",
    "dftestvalue['DIFF'] = dftestvalue['MYRANK'] - dftestvalue['REALRANK']\n",
    "dftestvalue = dftestvalue.sort_values(by='PREDRF', ascending = False)\n",
    "\n",
    "print(dftestvalue[['PLAYER','MYRANK','REALRANK','DIFF']].head(20))\n",
    "rmse = (np.mean((dftestvalue.MYRANK - dftestvalue.REALRANK)**2))**(1/2)\n",
    "print('Testing RMSE')\n",
    "print(rmse)"
   ]
  },
  {
   "cell_type": "markdown",
   "metadata": {
    "collapsed": true
   },
   "source": [
    "### That's it. This format is great but I am not doing it justice but I can do more things between now and Wednesday."
   ]
  }
 ],
 "metadata": {
  "kernelspec": {
   "display_name": "Python 3",
   "language": "python",
   "name": "python3"
  },
  "language_info": {
   "codemirror_mode": {
    "name": "ipython",
    "version": 3
   },
   "file_extension": ".py",
   "mimetype": "text/x-python",
   "name": "python",
   "nbconvert_exporter": "python",
   "pygments_lexer": "ipython3",
   "version": "3.5.0"
  }
 },
 "nbformat": 4,
 "nbformat_minor": 2
}
